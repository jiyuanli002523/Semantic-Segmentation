{
 "cells": [
  {
   "cell_type": "code",
   "execution_count": 1,
   "metadata": {},
   "outputs": [
    {
     "name": "stdout",
     "output_type": "stream",
     "text": [
      "batch_size: 2\n",
      "checkpoint_dir: ./experiments\\fcn_alexnet_kittyroad\\checkpoint/\n",
      "data_path: C:/Users/TT260256/My Project/NNs/data_road\n",
      "exp_name: fcn_alexnet_kittyroad\n",
      "image_size:\n",
      "- 320\n",
      "- 480\n",
      "learning_rate: 0.00023949513325777832\n",
      "max_to_keep: 5\n",
      "num_epochs: 30\n",
      "num_iter_per_epoch: 100\n",
      "summary_dir: ./experiments\\fcn_alexnet_kittyroad\\summary/\n",
      "\n"
     ]
    }
   ],
   "source": [
    "import tensorflow as tf\n",
    "\n",
    "from data_loader.kitty_road_data_loader import KittyRoadLoader\n",
    "from models.fcn_alexnet_model import FcnAlexnetModel\n",
    "from trainers.road_trainer import RoadTrainer\n",
    "from utils.config import process_config\n",
    "from utils.dirs import create_dirs\n",
    "from utils.logger import Logger\n",
    "from utils.utils import get_args\n",
    "import matplotlib.pyplot as plt\n",
    "import os \n",
    "json_file = \"configs/fcn_alexnet_KittyRoadDataset_config.json\"\n",
    "json_file\n",
    "\n",
    "config = process_config(json_file)\n",
    "print(config)"
   ]
  },
  {
   "cell_type": "code",
   "execution_count": 2,
   "metadata": {},
   "outputs": [
    {
     "name": "stdout",
     "output_type": "stream",
     "text": [
      "Yeah this is the path to dataset : C:/Users/TT260256/My Project/NNs/data_road\n",
      "Size of all raw images :  289 samples with size  (375, 1242, 3)\n",
      "Size of all raw labels  :  289 samples with size  (375, 1242, 3)\n",
      "Size of all raw masks  :  289 samples with size  (375, 1242)\n",
      "Pre-processing the data...\n",
      "Size of images collection :  (2312, 320, 480, 3)\n",
      "Size of masks collection :  (2312, 320, 480)\n"
     ]
    }
   ],
   "source": [
    "data = KittyRoadLoader(config)\n",
    "img, mask = data.get_data_element(\"all_data\",0)"
   ]
  },
  {
   "cell_type": "code",
   "execution_count": 3,
   "metadata": {},
   "outputs": [
    {
     "name": "stdout",
     "output_type": "stream",
     "text": [
      "Loading model checkpoint ./experiments\\fcn_alexnet_kittyroad\\checkpoint/-404 ...\n",
      "\n",
      "INFO:tensorflow:Restoring parameters from ./experiments\\fcn_alexnet_kittyroad\\checkpoint/-404\n",
      "Model loaded\n"
     ]
    }
   ],
   "source": [
    "sess = tf.Session()\n",
    "model = FcnAlexnetModel(config)\n",
    "logger = Logger(sess,config)"
   ]
  },
  {
   "cell_type": "code",
   "execution_count": null,
   "metadata": {},
   "outputs": [
    {
     "name": "stdout",
     "output_type": "stream",
     "text": [
      "Epoch  0\n"
     ]
    },
    {
     "name": "stderr",
     "output_type": "stream",
     "text": [
      "100%|████████████████████████████████████████████████████████████████████████████████| 100/100 [03:40<00:00,  2.20s/it]\n"
     ]
    },
    {
     "name": "stdout",
     "output_type": "stream",
     "text": [
      " Last epoch loss :  0.3923561\n",
      " Last epoch accuracy : 0.80625063\n",
      "Last test loss : 0.32837462\n",
      "Last test accuracy :  0.8491065\n",
      "Saving model...\n",
      "Model saved\n",
      "Epoch  1\n"
     ]
    },
    {
     "name": "stderr",
     "output_type": "stream",
     "text": [
      "100%|████████████████████████████████████████████████████████████████████████████████| 100/100 [03:37<00:00,  2.17s/it]\n"
     ]
    },
    {
     "name": "stdout",
     "output_type": "stream",
     "text": [
      " Last epoch loss :  0.24911958\n",
      " Last epoch accuracy : 0.8648918\n",
      "Last test loss : 0.22081733\n",
      "Last test accuracy :  0.84739673\n",
      "Saving model...\n",
      "Model saved\n",
      "Epoch  2\n"
     ]
    },
    {
     "name": "stderr",
     "output_type": "stream",
     "text": [
      "100%|████████████████████████████████████████████████████████████████████████████████| 100/100 [03:38<00:00,  2.21s/it]\n"
     ]
    },
    {
     "name": "stdout",
     "output_type": "stream",
     "text": [
      " Last epoch loss :  0.203359\n",
      " Last epoch accuracy : 0.9010808\n",
      "Last test loss : 0.189758\n",
      "Last test accuracy :  0.92450356\n",
      "Saving model...\n",
      "Model saved\n",
      "Epoch  3\n"
     ]
    },
    {
     "name": "stderr",
     "output_type": "stream",
     "text": [
      "100%|████████████████████████████████████████████████████████████████████████████████| 100/100 [03:39<00:00,  2.22s/it]\n"
     ]
    },
    {
     "name": "stdout",
     "output_type": "stream",
     "text": [
      " Last epoch loss :  0.18958801\n",
      " Last epoch accuracy : 0.9150375\n",
      "Last test loss : 0.18417431\n",
      "Last test accuracy :  0.91955465\n",
      "Saving model...\n",
      "Model saved\n",
      "Epoch  4\n"
     ]
    },
    {
     "name": "stderr",
     "output_type": "stream",
     "text": [
      " 85%|████████████████████████████████████████████████████████████████████▊            | 85/100 [03:11<00:49,  3.31s/it]"
     ]
    }
   ],
   "source": [
    "trainer = RoadTrainer(sess,model,data,config,logger)\n",
    "trainer.train()"
   ]
  },
  {
   "cell_type": "code",
   "execution_count": null,
   "metadata": {},
   "outputs": [],
   "source": [
    "# img, mask = data.get_data_element(\"train_data\",20)\n",
    "# plt.imshow(img)\n",
    "# plt.show()\n",
    "# plt.imshow(mask)\n",
    "# plt.show()"
   ]
  },
  {
   "cell_type": "code",
   "execution_count": null,
   "metadata": {},
   "outputs": [],
   "source": [
    "test = [data.get_data_element(\"all_data\",i)[0] for i in range(10)]"
   ]
  },
  {
   "cell_type": "code",
   "execution_count": null,
   "metadata": {},
   "outputs": [],
   "source": [
    "for img in test :    \n",
    "    trainer.predict(sess,img)"
   ]
  }
 ],
 "metadata": {
  "kernelspec": {
   "display_name": "Python 3",
   "language": "python",
   "name": "python3"
  },
  "language_info": {
   "codemirror_mode": {
    "name": "ipython",
    "version": 3
   },
   "file_extension": ".py",
   "mimetype": "text/x-python",
   "name": "python",
   "nbconvert_exporter": "python",
   "pygments_lexer": "ipython3",
   "version": "3.6.8"
  }
 },
 "nbformat": 4,
 "nbformat_minor": 2
}
