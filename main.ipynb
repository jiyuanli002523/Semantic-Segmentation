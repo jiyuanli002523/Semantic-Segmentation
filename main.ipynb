{
 "cells": [
  {
   "cell_type": "code",
   "execution_count": 1,
   "metadata": {},
   "outputs": [
    {
     "name": "stdout",
     "output_type": "stream",
     "text": [
      "batch_size: 3\n",
      "checkpoint_dir: ./experiments\\fcn_alexnet_kittyroad\\checkpoint/\n",
      "data_path: C:/Users/TT260256/My Project/NNs/data_road\n",
      "exp_name: fcn_alexnet_kittyroad\n",
      "image_size:\n",
      "- 320\n",
      "- 480\n",
      "learning_rate: 0.00023949513325777832\n",
      "max_to_keep: 5\n",
      "num_epochs: 2\n",
      "num_iter_per_epoch: 10\n",
      "summary_dir: ./experiments\\fcn_alexnet_kittyroad\\summary/\n",
      "\n"
     ]
    }
   ],
   "source": [
    "import tensorflow as tf\n",
    "\n",
    "from data_loader.kitty_road_data_loader import KittyRoadLoader\n",
    "from models.fcn_alexnet_model import FcnAlexnetModel\n",
    "from trainers.fcn_alexnet_trainer import FcnAlexnetTrainer\n",
    "from utils.config import process_config\n",
    "from utils.dirs import create_dirs\n",
    "from utils.logger import Logger\n",
    "from utils.utils import get_args\n",
    "import matplotlib.pyplot as plt\n",
    "import os \n",
    "json_file = \"configs/fcn_alexnet_KittyRoadDataset_config.json\"\n",
    "json_file\n",
    "\n",
    "config = process_config(json_file)\n",
    "print(config)\n",
    "\n"
   ]
  },
  {
   "cell_type": "code",
   "execution_count": 4,
   "metadata": {},
   "outputs": [
    {
     "name": "stdout",
     "output_type": "stream",
     "text": [
      "Yeah this is the path to dataset : C:/Users/TT260256/My Project/NNs/data_road\n",
      "Size of all raw images :  289 samples with size  (375, 1242, 3)\n",
      "Size of all raw labels  :  289 samples with size  (375, 1242, 3)\n",
      "Size of all raw masks  :  289 samples with size  (375, 1242)\n",
      "Pre-processing the data...\n",
      "Size of images collection :  (2312, 320, 480, 3)\n",
      "Size of masks collection :  (2312, 320, 480)\n"
     ]
    }
   ],
   "source": [
    "data = KittyRoadLoader(config)\n",
    "img, mask = data.get_data_element(\"all_data\",0)"
   ]
  },
  {
   "cell_type": "code",
   "execution_count": 3,
   "metadata": {},
   "outputs": [],
   "source": [
    "img, mask = data.get_data_element(\"all_data\",700)\n",
    "plt.imshow(img)\n",
    "plt.show()\n",
    "plt.imshow(mask)\n",
    "plt.show()"
   ]
  },
  {
   "cell_type": "code",
   "execution_count": 4,
   "metadata": {},
   "outputs": [],
   "source": [
    "# model.summary()"
   ]
  },
  {
   "cell_type": "code",
   "execution_count": 5,
   "metadata": {},
   "outputs": [
    {
     "name": "stderr",
     "output_type": "stream",
     "text": [
      "100%|██████████████████████████████████████████████████████████████████████████████████| 10/10 [00:35<00:00,  3.52s/it]\n"
     ]
    },
    {
     "name": "stdout",
     "output_type": "stream",
     "text": [
      " Last batch loss :  0.6882705\n",
      " Last batch accuracy : 0.57266015\n",
      "Last test loss : 0.69136447\n",
      "Last test accuracy :  0.64707637\n",
      "Saving model...\n",
      "Model saved\n"
     ]
    },
    {
     "name": "stderr",
     "output_type": "stream",
     "text": [
      "100%|██████████████████████████████████████████████████████████████████████████████████| 10/10 [00:34<00:00,  3.43s/it]\n"
     ]
    },
    {
     "name": "stdout",
     "output_type": "stream",
     "text": [
      " Last batch loss :  0.61208755\n",
      " Last batch accuracy : 0.67722344\n",
      "Last test loss : 0.5223181\n",
      "Last test accuracy :  0.76110244\n",
      "Saving model...\n",
      "Model saved\n"
     ]
    },
    {
     "name": "stderr",
     "output_type": "stream",
     "text": [
      "100%|██████████████████████████████████████████████████████████████████████████████████| 10/10 [00:34<00:00,  3.43s/it]\n"
     ]
    },
    {
     "name": "stdout",
     "output_type": "stream",
     "text": [
      " Last batch loss :  0.4232478\n",
      " Last batch accuracy : 0.7892765\n",
      "Last test loss : 0.3339629\n",
      "Last test accuracy :  0.8151055\n",
      "Saving model...\n",
      "Model saved\n"
     ]
    }
   ],
   "source": [
    "with tf.Session() as sess :\n",
    "    # create the model\n",
    "    model = FcnAlexnetModel(config)\n",
    "    # create tensorboard logger\n",
    "    logger = Logger(sess, config)\n",
    "    # create trainer and pass all the previous components to it\n",
    "    trainer = FcnAlexnetTrainer(sess, model, data, config, logger)\n",
    "    #load model if exists\n",
    "#     model.load(sess)\n",
    "    # here you train your model\n",
    "    trainer.train()"
   ]
  },
  {
   "cell_type": "code",
   "execution_count": 3,
   "metadata": {},
   "outputs": [
    {
     "name": "stdout",
     "output_type": "stream",
     "text": [
      "Loading model checkpoint ./experiments\\fcn_alexnet_kittyroad\\checkpoint/-33 ...\n",
      "\n",
      "INFO:tensorflow:Restoring parameters from ./experiments\\fcn_alexnet_kittyroad\\checkpoint/-33\n",
      "Model loaded\n"
     ]
    }
   ],
   "source": [
    "with tf.Session() as sess :\n",
    "    model = FcnAlexnetModel(config)\n",
    "    # create tensorboard logger\n",
    "    logger = Logger(sess, config)\n",
    "    #load model if exists\n",
    "    model.load(sess)\n",
    "    "
   ]
  },
  {
   "cell_type": "code",
   "execution_count": null,
   "metadata": {},
   "outputs": [],
   "source": []
  }
 ],
 "metadata": {
  "kernelspec": {
   "display_name": "Python 3",
   "language": "python",
   "name": "python3"
  },
  "language_info": {
   "codemirror_mode": {
    "name": "ipython",
    "version": 3
   },
   "file_extension": ".py",
   "mimetype": "text/x-python",
   "name": "python",
   "nbconvert_exporter": "python",
   "pygments_lexer": "ipython3",
   "version": "3.6.8"
  }
 },
 "nbformat": 4,
 "nbformat_minor": 2
}
