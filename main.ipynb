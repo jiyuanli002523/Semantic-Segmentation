{
 "cells": [
  {
   "cell_type": "code",
   "execution_count": 1,
   "metadata": {},
   "outputs": [
    {
     "name": "stdout",
     "output_type": "stream",
     "text": [
      "batch_size: 16\n",
      "checkpoint_dir: ./experiments\\fcn_alexnet_kittyroad\\checkpoint/\n",
      "data_path: C:/Users/TT260256/My Project/NNs/data_road\n",
      "exp_name: fcn_alexnet_kittyroad\n",
      "image_size:\n",
      "- 320\n",
      "- 480\n",
      "learning_rate: 0.001\n",
      "max_to_keep: 5\n",
      "num_epochs: 10\n",
      "num_iter_per_epoch: 10\n",
      "state_size:\n",
      "- 784\n",
      "summary_dir: ./experiments\\fcn_alexnet_kittyroad\\summary/\n",
      "\n"
     ]
    }
   ],
   "source": [
    "import tensorflow as tf\n",
    "\n",
    "from data_loader.kitty_road_data_loader import KittyRoadLoader\n",
    "from models.fcn_alexnet_model import FcnAlexnetModel\n",
    "from trainers.example_trainer import ExampleTrainer\n",
    "from utils.config import process_config\n",
    "from utils.dirs import create_dirs\n",
    "from utils.logger import Logger\n",
    "from utils.utils import get_args\n",
    "import matplotlib.pyplot as plt\n",
    "import os \n",
    "json_file = \"configs/fcn_alexnet_KittyRoadDataset_config.json\"\n",
    "json_file\n",
    "\n",
    "config = process_config(json_file)\n",
    "print(config)\n",
    "\n"
   ]
  },
  {
   "cell_type": "code",
   "execution_count": 2,
   "metadata": {},
   "outputs": [
    {
     "name": "stdout",
     "output_type": "stream",
     "text": [
      "Yeah this is the path to dataset : C:/Users/TT260256/My Project/NNs/data_road\n",
      "Size of all raw images :  289 samples with size  (375, 1242, 3)\n",
      "Size of all raw labels  :  289 samples with size  (375, 1242, 3)\n",
      "Size of all raw masks  :  289 samples with size  (375, 1242)\n",
      "Pre-processing the data...\n",
      "Size of images collection :  (2312, 320, 480, 3)\n",
      "Size of masks collection :  (2312, 320, 480)\n"
     ]
    }
   ],
   "source": [
    "data = KittyRoadLoader(config)\n",
    "img, mask = data.get_data_element(\"all_data\",0)"
   ]
  },
  {
   "cell_type": "code",
   "execution_count": 3,
   "metadata": {},
   "outputs": [],
   "source": [
    "# img, mask = data.get_data_element(\"all_data\",2)\n",
    "# plt.imshow(img)\n",
    "# plt.show()\n",
    "# plt.imshow(mask)\n",
    "# plt.show()"
   ]
  },
  {
   "cell_type": "code",
   "execution_count": null,
   "metadata": {},
   "outputs": [],
   "source": []
  },
  {
   "cell_type": "code",
   "execution_count": 4,
   "metadata": {},
   "outputs": [],
   "source": [
    "model = FcnAlexnetModel(config)"
   ]
  },
  {
   "cell_type": "code",
   "execution_count": 5,
   "metadata": {},
   "outputs": [
    {
     "name": "stdout",
     "output_type": "stream",
     "text": [
      "_________________________________________________________________\n",
      "Layer (type)                 Output Shape              Param #   \n",
      "=================================================================\n",
      "input_1 (InputLayer)         (None, 320, 480, 3)       0         \n",
      "_________________________________________________________________\n",
      "conv2d (Conv2D)              (None, 78, 118, 96)       34944     \n",
      "_________________________________________________________________\n",
      "activation (Activation)      (None, 78, 118, 96)       0         \n",
      "_________________________________________________________________\n",
      "max_pooling2d (MaxPooling2D) (None, 39, 59, 96)        0         \n",
      "_________________________________________________________________\n",
      "batch_normalization (BatchNo (None, 39, 59, 96)        384       \n",
      "_________________________________________________________________\n",
      "conv2d_1 (Conv2D)            (None, 39, 59, 256)       614656    \n",
      "_________________________________________________________________\n",
      "activation_1 (Activation)    (None, 39, 59, 256)       0         \n",
      "_________________________________________________________________\n",
      "max_pooling2d_1 (MaxPooling2 (None, 20, 30, 256)       0         \n",
      "_________________________________________________________________\n",
      "batch_normalization_1 (Batch (None, 20, 30, 256)       1024      \n",
      "_________________________________________________________________\n",
      "conv2d_2 (Conv2D)            (None, 20, 30, 384)       885120    \n",
      "_________________________________________________________________\n",
      "activation_2 (Activation)    (None, 20, 30, 384)       0         \n",
      "_________________________________________________________________\n",
      "conv2d_3 (Conv2D)            (None, 20, 30, 384)       1327488   \n",
      "_________________________________________________________________\n",
      "activation_3 (Activation)    (None, 20, 30, 384)       0         \n",
      "_________________________________________________________________\n",
      "conv2d_4 (Conv2D)            (None, 20, 30, 256)       884992    \n",
      "_________________________________________________________________\n",
      "activation_4 (Activation)    (None, 20, 30, 256)       0         \n",
      "_________________________________________________________________\n",
      "max_pooling2d_2 (MaxPooling2 (None, 10, 15, 256)       0         \n",
      "_________________________________________________________________\n",
      "conv2d_5 (Conv2D)            (None, 10, 15, 4096)      37752832  \n",
      "_________________________________________________________________\n",
      "activation_5 (Activation)    (None, 10, 15, 4096)      0         \n",
      "_________________________________________________________________\n",
      "dropout (Dropout)            (None, 10, 15, 4096)      0         \n",
      "_________________________________________________________________\n",
      "conv2d_6 (Conv2D)            (None, 10, 15, 4096)      16781312  \n",
      "_________________________________________________________________\n",
      "activation_6 (Activation)    (None, 10, 15, 4096)      0         \n",
      "_________________________________________________________________\n",
      "dropout_1 (Dropout)          (None, 10, 15, 4096)      0         \n",
      "_________________________________________________________________\n",
      "conv2d_7 (Conv2D)            (None, 10, 15, 2)         8194      \n",
      "_________________________________________________________________\n",
      "conv2d_transpose (Conv2DTran (None, 320, 480, 2)       15878     \n",
      "_________________________________________________________________\n",
      "softmax (Softmax)            (None, 320, 480, 2)       0         \n",
      "=================================================================\n",
      "Total params: 58,306,824\n",
      "Trainable params: 58,306,120\n",
      "Non-trainable params: 704\n",
      "_________________________________________________________________\n"
     ]
    }
   ],
   "source": [
    "model.summary()"
   ]
  },
  {
   "cell_type": "code",
   "execution_count": 9,
   "metadata": {},
   "outputs": [],
   "source": [
    "with tf.Session() as sess :\n",
    "    # create tensorboard logger\n",
    "    logger = Logger(sess, config)"
   ]
  },
  {
   "cell_type": "code",
   "execution_count": 7,
   "metadata": {},
   "outputs": [
    {
     "ename": "AttributeError",
     "evalue": "'FcnAlexnetModel' object has no attribute 'train_data'",
     "output_type": "error",
     "traceback": [
      "\u001b[1;31m---------------------------------------------------------------------------\u001b[0m",
      "\u001b[1;31mAttributeError\u001b[0m                            Traceback (most recent call last)",
      "\u001b[1;32m<ipython-input-7-d9401c7eb734>\u001b[0m in \u001b[0;36m<module>\u001b[1;34m\u001b[0m\n\u001b[1;32m----> 1\u001b[1;33m \u001b[0mmodel\u001b[0m\u001b[1;33m.\u001b[0m\u001b[0mfit_model\u001b[0m\u001b[1;33m(\u001b[0m\u001b[1;33m)\u001b[0m\u001b[1;33m\u001b[0m\u001b[1;33m\u001b[0m\u001b[0m\n\u001b[0m",
      "\u001b[1;32m~\\My Project\\Tensorflow-Projects\\Project Template\\models\\fcn_alexnet_model.py\u001b[0m in \u001b[0;36mfit_model\u001b[1;34m(self)\u001b[0m\n\u001b[0;32m     54\u001b[0m \u001b[1;33m\u001b[0m\u001b[0m\n\u001b[0;32m     55\u001b[0m     \u001b[1;32mdef\u001b[0m \u001b[0mfit_model\u001b[0m\u001b[1;33m(\u001b[0m\u001b[0mself\u001b[0m\u001b[1;33m)\u001b[0m\u001b[1;33m:\u001b[0m\u001b[1;33m\u001b[0m\u001b[1;33m\u001b[0m\u001b[0m\n\u001b[1;32m---> 56\u001b[1;33m         self.model.fit(self.train_data,self.train_mask,\n\u001b[0m\u001b[0;32m     57\u001b[0m                        \u001b[0mbatch_size\u001b[0m\u001b[1;33m=\u001b[0m\u001b[1;36m2\u001b[0m\u001b[1;33m,\u001b[0m\u001b[1;33m\u001b[0m\u001b[1;33m\u001b[0m\u001b[0m\n\u001b[0;32m     58\u001b[0m                        \u001b[0mepochs\u001b[0m \u001b[1;33m=\u001b[0m \u001b[1;36m2\u001b[0m\u001b[1;33m,\u001b[0m\u001b[1;33m\u001b[0m\u001b[1;33m\u001b[0m\u001b[0m\n",
      "\u001b[1;31mAttributeError\u001b[0m: 'FcnAlexnetModel' object has no attribute 'train_data'"
     ]
    }
   ],
   "source": []
  },
  {
   "cell_type": "code",
   "execution_count": null,
   "metadata": {},
   "outputs": [],
   "source": [
    "# with tf.Session() as sess : \n",
    "#     writer = tf.summary.FileWriter(\"/tmp/log/TestTemp\", sess.graph)\n",
    "    \n",
    "# writer.flush()\n",
    "# writer.close()"
   ]
  }
 ],
 "metadata": {
  "kernelspec": {
   "display_name": "Python 3",
   "language": "python",
   "name": "python3"
  },
  "language_info": {
   "codemirror_mode": {
    "name": "ipython",
    "version": 3
   },
   "file_extension": ".py",
   "mimetype": "text/x-python",
   "name": "python",
   "nbconvert_exporter": "python",
   "pygments_lexer": "ipython3",
   "version": "3.6.8"
  }
 },
 "nbformat": 4,
 "nbformat_minor": 2
}
