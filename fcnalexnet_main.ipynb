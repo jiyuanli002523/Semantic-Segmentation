{
 "cells": [
  {
   "cell_type": "code",
   "execution_count": 1,
   "metadata": {},
   "outputs": [
    {
     "name": "stdout",
     "output_type": "stream",
     "text": [
      "batch_size: 2\n",
      "checkpoint_dir: ./experiments\\fcn_alexnet_kittyroad\\checkpoint/\n",
      "data_path: C:/Users/TT260256/My Project/NNs/data_road\n",
      "exp_name: fcn_alexnet_kittyroad\n",
      "image_size:\n",
      "- 320\n",
      "- 480\n",
      "learning_rate: 0.00023949513325777832\n",
      "max_to_keep: 5\n",
      "num_epochs: 5\n",
      "num_iter_per_epoch: 100\n",
      "summary_dir: ./experiments\\fcn_alexnet_kittyroad\\summary/\n",
      "\n"
     ]
    }
   ],
   "source": [
    "import tensorflow as tf\n",
    "\n",
    "from data_loader.kitty_road_data_loader import KittyRoadLoader\n",
    "from models.fcn_alexnet_model import FcnAlexnetModel\n",
    "from trainers.road_trainer import RoadTrainer\n",
    "from utils.config import process_config\n",
    "from utils.dirs import create_dirs\n",
    "from utils.logger import Logger\n",
    "from utils.utils import get_args\n",
    "import matplotlib.pyplot as plt\n",
    "import os \n",
    "json_file = \"configs/fcn_alexnet_KittyRoadDataset_config.json\"\n",
    "json_file\n",
    "\n",
    "config = process_config(json_file)\n",
    "print(config)"
   ]
  },
  {
   "cell_type": "code",
   "execution_count": 2,
   "metadata": {},
   "outputs": [
    {
     "name": "stdout",
     "output_type": "stream",
     "text": [
      "Yeah this is the path to dataset : C:/Users/TT260256/My Project/NNs/data_road\n",
      "Size of all raw images :  289 samples with size  (375, 1242, 3)\n",
      "Size of all raw labels  :  289 samples with size  (375, 1242, 3)\n",
      "Size of all raw masks  :  289 samples with size  (375, 1242)\n",
      "Pre-processing the data...\n",
      "Size of images collection :  (2312, 320, 480, 3)\n",
      "Size of masks collection :  (2312, 320, 480)\n"
     ]
    }
   ],
   "source": [
    "data = KittyRoadLoader(config)\n",
    "img, mask = data.get_data_element(\"all_data\",0)"
   ]
  },
  {
   "cell_type": "code",
   "execution_count": null,
   "metadata": {},
   "outputs": [
    {
     "name": "stdout",
     "output_type": "stream",
     "text": [
      "Epoch  0\n"
     ]
    },
    {
     "name": "stderr",
     "output_type": "stream",
     "text": [
      "100%|████████████████████████████████████████████████████████████████████████████████| 100/100 [03:28<00:00,  2.08s/it]\n"
     ]
    },
    {
     "name": "stdout",
     "output_type": "stream",
     "text": [
      "-->Last epoch loss     :  0.4425188\n",
      "-->Last epoch accuracy :  0.3173088\n",
      "-->Last test loss     :  0.2196385\n",
      "-->Last test accuracy :  0.4836835\n",
      "Saving model...\n",
      "Model saved\n",
      "Epoch  1\n"
     ]
    },
    {
     "name": "stderr",
     "output_type": "stream",
     "text": [
      "100%|████████████████████████████████████████████████████████████████████████████████| 100/100 [03:24<00:00,  2.05s/it]\n"
     ]
    },
    {
     "name": "stdout",
     "output_type": "stream",
     "text": [
      "-->Last epoch loss     :  0.22426376\n",
      "-->Last epoch accuracy :  0.44469497\n",
      "-->Last test loss     :  0.16678585\n",
      "-->Last test accuracy :  0.5509222\n",
      "Saving model...\n",
      "Model saved\n",
      "Epoch  2\n"
     ]
    },
    {
     "name": "stderr",
     "output_type": "stream",
     "text": [
      "100%|████████████████████████████████████████████████████████████████████████████████| 100/100 [03:26<00:00,  2.05s/it]\n"
     ]
    },
    {
     "name": "stdout",
     "output_type": "stream",
     "text": [
      "-->Last epoch loss     :  0.1831614\n",
      "-->Last epoch accuracy :  0.5196449\n",
      "-->Last test loss     :  0.160666\n",
      "-->Last test accuracy :  0.59985214\n",
      "Saving model...\n",
      "Model saved\n",
      "Epoch  3\n"
     ]
    },
    {
     "name": "stderr",
     "output_type": "stream",
     "text": [
      " 49%|███████████████████████████████████████▋                                         | 49/100 [01:41<01:44,  2.05s/it]"
     ]
    }
   ],
   "source": [
    "sess = tf.Session()\n",
    "model = FcnAlexnetModel(config)\n",
    "logger = Logger(sess,config)\n",
    "trainer = RoadTrainer(sess,model,data,config,logger)\n",
    "trainer.train()"
   ]
  },
  {
   "cell_type": "code",
   "execution_count": null,
   "metadata": {
    "scrolled": false
   },
   "outputs": [],
   "source": [
    "test = [data.get_data_element(\"all_data\",i)[0] for i in range(20)]\n",
    "for img in test :    \n",
    "    trainer.predict(img)"
   ]
  }
 ],
 "metadata": {
  "kernelspec": {
   "display_name": "Python 3",
   "language": "python",
   "name": "python3"
  },
  "language_info": {
   "codemirror_mode": {
    "name": "ipython",
    "version": 3
   },
   "file_extension": ".py",
   "mimetype": "text/x-python",
   "name": "python",
   "nbconvert_exporter": "python",
   "pygments_lexer": "ipython3",
   "version": "3.6.8"
  }
 },
 "nbformat": 4,
 "nbformat_minor": 2
}
