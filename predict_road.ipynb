{
 "cells": [
  {
   "cell_type": "code",
   "execution_count": 1,
   "metadata": {},
   "outputs": [
    {
     "name": "stdout",
     "output_type": "stream",
     "text": [
      "batch_size: 2\n",
      "checkpoint_dir: ./experiments\\fcn_alexnet_kittyroad\\checkpoint/\n",
      "data_path: C:/Users/TT260256/My Project/NNs/data_road\n",
      "exp_name: fcn_alexnet_kittyroad\n",
      "image_size:\n",
      "- 320\n",
      "- 480\n",
      "learning_rate: 0.00023949513325777832\n",
      "max_to_keep: 5\n",
      "num_epochs: 30\n",
      "num_iter_per_epoch: 100\n",
      "summary_dir: ./experiments\\fcn_alexnet_kittyroad\\summary/\n",
      "\n",
      "Yeah this is the path to dataset : C:/Users/TT260256/My Project/NNs/data_road\n",
      "Size of all raw images :  289 samples with size  (375, 1242, 3)\n",
      "Size of all raw labels  :  289 samples with size  (375, 1242, 3)\n",
      "Size of all raw masks  :  289 samples with size  (375, 1242)\n",
      "Pre-processing the data...\n",
      "Size of images collection :  (2312, 320, 480, 3)\n",
      "Size of masks collection :  (2312, 320, 480)\n"
     ]
    }
   ],
   "source": [
    "import tensorflow as tf\n",
    "\n",
    "from data_loader.kitty_road_data_loader import KittyRoadLoader\n",
    "from models.fcn_alexnet_model import FcnAlexnetModel\n",
    "from trainers.fcn_alexnet_trainer import FcnAlexnetTrainer\n",
    "from utils.config import process_config\n",
    "from utils.dirs import create_dirs\n",
    "from utils.logger import Logger\n",
    "from utils.utils import get_args\n",
    "import matplotlib.pyplot as plt\n",
    "import os \n",
    "json_file = \"configs/fcn_alexnet_KittyRoadDataset_config.json\"\n",
    "json_file\n",
    "\n",
    "config = process_config(json_file)\n",
    "print(config)\n",
    "data = KittyRoadLoader(config)"
   ]
  },
  {
   "cell_type": "code",
   "execution_count": 5,
   "metadata": {},
   "outputs": [
    {
     "data": {
      "text/plain": [
       "'./experiments\\\\fcn_alexnet_kittyroad\\\\checkpoint/-3030'"
      ]
     },
     "execution_count": 5,
     "metadata": {},
     "output_type": "execute_result"
    }
   ],
   "source": [
    "latest_checkpoint = tf.train.latest_checkpoint(config.checkpoint_dir)\n",
    "latest_checkpoint"
   ]
  },
  {
   "cell_type": "code",
   "execution_count": 6,
   "metadata": {},
   "outputs": [
    {
     "ename": "AttributeError",
     "evalue": "'FcnAlexnetModel' object has no attribute 'load_weights'",
     "output_type": "error",
     "traceback": [
      "\u001b[1;31m---------------------------------------------------------------------------\u001b[0m",
      "\u001b[1;31mAttributeError\u001b[0m                            Traceback (most recent call last)",
      "\u001b[1;32m<ipython-input-6-065ebacdb803>\u001b[0m in \u001b[0;36m<module>\u001b[1;34m\u001b[0m\n\u001b[0;32m      1\u001b[0m \u001b[1;31m# new_model.save_weights(latest_checkpoint)\u001b[0m\u001b[1;33m\u001b[0m\u001b[1;33m\u001b[0m\u001b[1;33m\u001b[0m\u001b[0m\n\u001b[0;32m      2\u001b[0m \u001b[0mnew_model\u001b[0m \u001b[1;33m=\u001b[0m \u001b[0mFcnAlexnetModel\u001b[0m\u001b[1;33m(\u001b[0m\u001b[0mconfig\u001b[0m\u001b[1;33m)\u001b[0m\u001b[1;33m\u001b[0m\u001b[1;33m\u001b[0m\u001b[0m\n\u001b[1;32m----> 3\u001b[1;33m \u001b[0mnew_model\u001b[0m\u001b[1;33m.\u001b[0m\u001b[0mload_weights\u001b[0m\u001b[1;33m(\u001b[0m\u001b[0mlatest_checkpoint\u001b[0m\u001b[1;33m)\u001b[0m\u001b[1;33m\u001b[0m\u001b[1;33m\u001b[0m\u001b[0m\n\u001b[0m",
      "\u001b[1;31mAttributeError\u001b[0m: 'FcnAlexnetModel' object has no attribute 'load_weights'"
     ]
    }
   ],
   "source": [
    "# new_model.save_weights(latest_checkpoint)\n",
    "new_model = FcnAlexnetModel(config)\n",
    "new_model.load_weights(latest_checkpoint)"
   ]
  },
  {
   "cell_type": "code",
   "execution_count": null,
   "metadata": {},
   "outputs": [],
   "source": []
  },
  {
   "cell_type": "code",
   "execution_count": 2,
   "metadata": {},
   "outputs": [],
   "source": [
    "\n",
    "# # create the model\n",
    "# model = FcnAlexnetModel(config)\n",
    "# sess = tf.Session()\n",
    "# # create tensorboard logger\n",
    "# logger = Logger(sess, config)\n",
    "# # create trainer and pass all the previous components to it\n",
    "# trainer = FcnAlexnetTrainer(sess, model, data, config, logger)\n",
    "# #load model if exists\n",
    "# model.load(sess)\n"
   ]
  },
  {
   "cell_type": "code",
   "execution_count": 3,
   "metadata": {
    "scrolled": false
   },
   "outputs": [],
   "source": [
    "img, mask = data.get_data_element(\"all_data\",703)\n",
    "plt.imshow(img)\n",
    "plt.show()\n",
    "plt.imshow(mask)\n",
    "plt.show()\n",
    "#predict\n",
    "print(\"I want to predict sth...\")\n",
    "model.predict(img)"
   ]
  },
  {
   "cell_type": "code",
   "execution_count": 4,
   "metadata": {},
   "outputs": [],
   "source": [
    "# X_real,y_real = data.get_data_element(\"all_data\",500)\n",
    "# import scipy\n",
    "# saver = tf.train.import_meta_graph(\"./experiments/fcn_alexnet_kittyroad/checkpoint/-3030.meta\")\n",
    "# with tf.Session() as sess : \n",
    "#     latest_checkpoint = tf.train.latest_checkpoint(config.checkpoint_dir)\n",
    "#     if latest_checkpoint:\n",
    "#         print(\"Loading model checkpoint {} ...\\n\".format(latest_checkpoint))\n",
    "#         saver.restore(sess, latest_checkpoint)\n",
    "#         print(\"Model loaded\")\n",
    "#     im_pred = sess.run(\n",
    "#             y_proba,\n",
    "#             feed_dict = {X: X_real})\n",
    "    \n",
    "#     im_softmax = im_pred.reshape((-1,320*480,2))\n",
    "# #     print(im_softmax.shape)\n",
    "# #     print(im_pred.shape)\n",
    "#     Z = y_proba.eval(feed_dict = {X : [X_real]})\n",
    "#     y_pred = np.argmax(Z,axis=1).reshape(320,480)\n",
    "#     print(y_pred)    \n",
    "#     plt.imshow(X_real)\n",
    "#     plt.show()\n",
    "#     plt.imshow(y_real)\n",
    "#     plt.show()\n",
    "#     plt.imshow(y_pred)\n",
    "#     plt.show()\n",
    "# #     for i in range(im_softmax.shape[0]) : \n",
    "# #         im = im_softmax[i][:, 1].reshape(320, 480)\n",
    "# #         segmentation = (im > 0.5).reshape(320, 480, 1)\n",
    "# #         mask = np.dot(segmentation, np.array([[0, 255, 0, 127]]))\n",
    "# #         mask = scipy.misc.toimage(mask, mode=\"RGBA\")\n",
    "# #         street_im = scipy.misc.toimage(X_real[i])\n",
    "# #         street_im.paste(mask, box=None, mask=mask)\n",
    "# #         plt.imshow(street_im)\n",
    "# #         plt.show()  \n",
    "# #     print( accuracy.eval(feed_dict={X: X_real, y: y_real}))"
   ]
  }
 ],
 "metadata": {
  "kernelspec": {
   "display_name": "Python 3",
   "language": "python",
   "name": "python3"
  },
  "language_info": {
   "codemirror_mode": {
    "name": "ipython",
    "version": 3
   },
   "file_extension": ".py",
   "mimetype": "text/x-python",
   "name": "python",
   "nbconvert_exporter": "python",
   "pygments_lexer": "ipython3",
   "version": "3.6.8"
  }
 },
 "nbformat": 4,
 "nbformat_minor": 2
}
