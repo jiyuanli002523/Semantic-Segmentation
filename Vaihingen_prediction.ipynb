{
 "cells": [
  {
   "cell_type": "code",
   "execution_count": 1,
   "metadata": {},
   "outputs": [
    {
     "name": "stdout",
     "output_type": "stream",
     "text": [
      "accuracy: sparse_categorical_crossentropy\n",
      "batch_size: 5\n",
      "checkpoint_dir: ./experiments\\fcn_Vaihingen\\checkpoint/\n",
      "data_path: C:\\Users\\TT260256\\My Project\\NNs\\ISPRS_benchmarks_datasets\\Vaihingen\\\n",
      "exp_name: fcn_Vaihingen\n",
      "final_model_dir: ./experiments\\fcn_Vaihingen\\saved_model/\n",
      "image_size:\n",
      "- 256\n",
      "- 256\n",
      "- 3\n",
      "images_dir: ./experiments\\fcn_Vaihingen\\images/\n",
      "learning_rate: 0.01\n",
      "loss: scce\n",
      "max_to_keep: 5\n",
      "n_classes: 6\n",
      "num_epochs: 30\n",
      "num_iter_per_epoch: 1000\n",
      "summary_dir: ./experiments\\fcn_Vaihingen\\summary/\n",
      "\n"
     ]
    }
   ],
   "source": [
    "import tensorflow as tf\n",
    "\n",
    "from data_loader.ISPRS_data_loader import ISPRSLoader\n",
    "from models.fcn_base_model import FcnBaseModel\n",
    "from trainers.aerial_image_trainer import AerialImageTrainer\n",
    "# from models.unet_model import UNetModel\n",
    "# from trainers.road_trainer import RoadTrainer\n",
    "\n",
    "from utils.config import process_config\n",
    "from utils.dirs import create_dirs\n",
    "from utils.logger import Logger\n",
    "from utils.utils import get_args\n",
    "import matplotlib.pyplot as plt\n",
    "import os \n",
    "from utils.visualize import *\n",
    "import scipy.misc\n",
    "\n",
    "\n",
    "\n",
    "json_file = \"configs/fcn_ISPRS_Vaihingen_config.json\"\n",
    "json_file\n",
    "\n",
    "config = process_config(json_file)\n",
    "print(config)\n",
    "\n",
    "\n",
    "colordict = {0:[255,0,0],\n",
    "             1:[255,255,255],\n",
    "             2:[0,0,255],\n",
    "             3:[0,255,255],\n",
    "             4:[0,255,0],\n",
    "             5:[255,255,0]}"
   ]
  },
  {
   "cell_type": "code",
   "execution_count": 2,
   "metadata": {},
   "outputs": [
    {
     "name": "stdout",
     "output_type": "stream",
     "text": [
      "Yeah this is the path to dataset : C:\\Users\\TT260256\\My Project\\NNs\\ISPRS_benchmarks_datasets\\Vaihingen\\\n",
      "Training set : 11 images, Validation set : 5 images\n",
      "Size of normalized training images :  (5768, 256, 256, 3)\n",
      "Size of normalized validation images :  (325, 256, 256, 3)\n",
      "Size of normalized training masks :  (5768, 256, 256)\n",
      "Size of normalized validation masks :  (325, 256, 256)\n"
     ]
    }
   ],
   "source": [
    "data = ISPRSLoader(config)"
   ]
  },
  {
   "cell_type": "code",
   "execution_count": 53,
   "metadata": {
    "scrolled": false
   },
   "outputs": [
    {
     "name": "stdout",
     "output_type": "stream",
     "text": [
      "INFO:tensorflow:Restoring parameters from ./experiments\\fcn_Vaihingen\\saved_model/variables\\variables\n",
      "0.566705\n",
      "mean IoU : 0.48466\n"
     ]
    }
   ],
   "source": [
    "tf.reset_default_graph()\n",
    "import numpy as np\n",
    "import scipy\n",
    "graph = tf.Graph()\n",
    "with graph.as_default():\n",
    "    with tf.Session() as sess:   \n",
    "        tf.saved_model.loader.load(sess, [tf.saved_model.tag_constants.TRAINING], config.final_model_dir)    \n",
    "        bl = sess.run(\"best_loss/best_loss:0\")\n",
    "        print(bl)        \n",
    "#         for op in graph.get_operations():\n",
    "#             print(op.name)\n",
    "            \n",
    "        X_test = graph.get_tensor_by_name(\"inputs/X:0\")\n",
    "        y_test = graph.get_tensor_by_name(\"inputs/y:0\")\n",
    "        pred =  graph.get_tensor_by_name(\"eval/pred:0\")\n",
    "        \n",
    "        y_test_flatten = tf.reshape(y_test,(-1,256*256))\n",
    "        pred_flatten = tf.reshape(pred,(-1,256*256))\n",
    "        \n",
    "        mean_iou,conf_mat = tf.metrics.mean_iou(y_test_flatten,pred_flatten,config.n_classes)\n",
    "        sess.run(tf.local_variables_initializer())\n",
    "        test = [data.get_data_element(\"valid_data\",i) for i in range(300)]\n",
    "        \n",
    "        iou_list = []\n",
    "        for idx,item in enumerate(test) :\n",
    "            img = item[0]\n",
    "            mask = item[1]\n",
    "            out_pred = sess.run(pred,feed_dict={X_test : [img]})\n",
    "#             plt.subplot(141)\n",
    "#             plt.imshow(img)\n",
    "#             plt.subplot(142)\n",
    "#             plt.imshow(mask)\n",
    "#             plt.subplot(143)\n",
    "#             plt.imshow(out_pred[0])\n",
    "#             plt.subplot(144)\n",
    "#             out = visualize_output(img,out_pred[0],colordict)\n",
    "            save_output(out, config.images_dir + \"out{}.tif\".format(idx))\n",
    "            sess.run([conf_mat],feed_dict={X_test:[img],y_test:[mask]})\n",
    "            iou_list.append(sess.run(mean_iou,feed_dict={X_test:[img],y_test:[mask]}))\n",
    "        \n",
    "        print(\"mean IoU :\" ,sess.run(tf.reduce_mean(iou_list)))\n",
    "            "
   ]
  },
  {
   "cell_type": "code",
   "execution_count": null,
   "metadata": {},
   "outputs": [],
   "source": []
  },
  {
   "cell_type": "code",
   "execution_count": null,
   "metadata": {},
   "outputs": [],
   "source": []
  },
  {
   "cell_type": "code",
   "execution_count": null,
   "metadata": {},
   "outputs": [],
   "source": []
  }
 ],
 "metadata": {
  "kernelspec": {
   "display_name": "Python 3",
   "language": "python",
   "name": "python3"
  },
  "language_info": {
   "codemirror_mode": {
    "name": "ipython",
    "version": 3
   },
   "file_extension": ".py",
   "mimetype": "text/x-python",
   "name": "python",
   "nbconvert_exporter": "python",
   "pygments_lexer": "ipython3",
   "version": "3.6.8"
  }
 },
 "nbformat": 4,
 "nbformat_minor": 2
}
